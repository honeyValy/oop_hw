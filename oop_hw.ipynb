{
 "cells": [
  {
   "cell_type": "code",
   "execution_count": 1,
   "id": "46ba2618",
   "metadata": {},
   "outputs": [],
   "source": [
    "class Student:\n",
    "    def __init__(self, name, surname, gender):\n",
    "        self.name = name\n",
    "        self.surname = surname\n",
    "        self.gender = gender\n",
    "        self.finished_courses = []\n",
    "        self.courses_in_progress = []\n",
    "        self.grades = {}\n",
    "        \n",
    "    def rate_lecturer(self, lecturer, course, grade):\n",
    "        if isinstance(lecturer, Lecturer) and course in lecturer.courses_attached and (course in self.courses_in_progress or course in self.finished_courses):\n",
    "            if course in lecturer.grades:\n",
    "                lecturer.grades[course] += [grade]\n",
    "            else:\n",
    "                lecturer.grades[course] = [grade]\n",
    "        else:\n",
    "            return 'Ошибка'\n",
    "        \n",
    "    def _mean_hw_score(self):\n",
    "        return sum([sum(i) for i in self.grades.values()])/sum([len(i) for i in self.grades.values()])\n",
    "   \n",
    "    def __str__(self):\n",
    "        return f'Имя: {self.name}\\nФамилия: {self.surname}\\nСредняя оценка за домашние задания: {self._mean_hw_score():.1f}' + \\\n",
    "                f'\\nКурсы в процессе изучения: {\", \".join(self.courses_in_progress)}\\nЗавершенные курсы: {\", \".join(self.finished_courses)}'\n",
    "    \n",
    "    def __eq__(self, other):\n",
    "        return self._mean_hw_score() == other._mean_hw_score()\n",
    "    def __ne__(self, other):\n",
    "        return self._mean_hw_score() != other._mean_hw_score()\n",
    "    def __lt__(self, other):\n",
    "        return self._mean_hw_score() < other._mean_hw_score()\n",
    "    def __gt__(self, other):\n",
    "        return self._mean_hw_score() > other._mean_hw_score()\n",
    "    def __le__(self, other):\n",
    "        return self._mean_hw_score() <= other._mean_hw_score()\n",
    "    def __ge__(self, other):\n",
    "        return self._mean_hw_score() >= other._mean_hw_score()"
   ]
  },
  {
   "cell_type": "code",
   "execution_count": 2,
   "id": "c65c1e4e",
   "metadata": {},
   "outputs": [],
   "source": [
    "class Mentor:\n",
    "    def __init__(self, name, surname):\n",
    "        self.name = name\n",
    "        self.surname = surname\n",
    "        self.courses_attached = []\n",
    "    def __str__(self):\n",
    "        return f'Имя: {self.name}\\nФамилия: {self.surname}'"
   ]
  },
  {
   "cell_type": "code",
   "execution_count": 3,
   "id": "cdd697cd",
   "metadata": {},
   "outputs": [],
   "source": [
    "class Lecturer(Mentor):\n",
    "    def __init__(self, name, surname):\n",
    "        super().__init__(name, surname)\n",
    "        self.grades = {}\n",
    "        \n",
    "    def _mean_lectures_score(self):\n",
    "        return sum([sum(i) for i in self.grades.values()])/sum([len(i) for i in self.grades.values()])\n",
    "    \n",
    "    def __str__(self):\n",
    "        return f'Имя: {self.name}\\nФамилия: {self.surname}\\nСредняя оценка за лекции: {self. _mean_lectures_score():.1f}'\n",
    "    \n",
    "    def __eq__(self, other):\n",
    "        return self._mean_lectures_score() == other._mean_lectures_score()\n",
    "    def __ne__(self, other):\n",
    "        return self._mean_lectures_score() != other._mean_lectures_score()\n",
    "    def __lt__(self, other):\n",
    "        return self._mean_lectures_score() < other._mean_lectures_score()\n",
    "    def __gt__(self, other):\n",
    "        return self._mean_lectures_score() > other._mean_lectures_score()\n",
    "    def __le__(self, other):\n",
    "        return self._mean_lectures_score() <= other._mean_lectures_score()\n",
    "    def __ge__(self, other):\n",
    "        return self._mean_lectures_score() >= other._mean_lectures_score()"
   ]
  },
  {
   "cell_type": "code",
   "execution_count": 4,
   "id": "9c110625",
   "metadata": {},
   "outputs": [],
   "source": [
    "class Reviewer(Mentor):\n",
    "    def rate_hw(self, student, course, grade):\n",
    "        if isinstance(student, Student) and course in self.courses_attached and course in student.courses_in_progress:\n",
    "            if course in student.grades:\n",
    "                student.grades[course] += [grade]\n",
    "            else:\n",
    "                student.grades[course] = [grade]\n",
    "        else:\n",
    "            return 'Ошибка'\n",
    "    def __str__(self):\n",
    "        return f'Имя: {self.name}\\nФамилия: {self.surname}'"
   ]
  },
  {
   "cell_type": "code",
   "execution_count": 5,
   "id": "bd83302e",
   "metadata": {},
   "outputs": [],
   "source": [
    "# для подсчета средней оценки за домашние задания по всем студентам в рамках конкретного курса (в качестве аргументов принимаем список студентов и название курса\n",
    "def mean_score_hw_per_course(students, course):\n",
    "    return sum([sum(i.grades[course]) for i in students if course in i.grades])/sum([len(i.grades[course]) for i in students if course in i.grades])"
   ]
  },
  {
   "cell_type": "code",
   "execution_count": 6,
   "id": "1d9dfe90",
   "metadata": {},
   "outputs": [],
   "source": [
    "#для подсчета средней оценки за лекции всех лекторов в рамках курса (в качестве аргумента принимаем список лекторов и название курса)\n",
    "def mean_score_lectures_per_course(lecturer, course):\n",
    "    return sum([sum(i.grades[course]) for i in lecturer if course in i.grades])/sum([len(i.grades[course]) for i in lecturer if course in i.grades])"
   ]
  },
  {
   "cell_type": "code",
   "execution_count": 7,
   "id": "fc44b4ab",
   "metadata": {},
   "outputs": [],
   "source": [
    "student_1 = Student('Ivan', 'Petrov', 'male')\n",
    "student_1.finished_courses += ['Java']\n",
    "student_1.courses_in_progress += ['C#', 'Data Science','Python']\n",
    "\n",
    "student_2 = Student('Marina', 'Belova', 'female')\n",
    "student_2.finished_courses += ['C++', 'Java']\n",
    "student_2.courses_in_progress += ['Python', 'C#']\n",
    "\n",
    "mentor_1 = Mentor('Sergey', 'Karpov')\n",
    "\n",
    "lecturer_1 = Lecturer('Dmitry', 'Leonov')\n",
    "lecturer_1.courses_attached += ['C#','C++', 'Java']\n",
    "\n",
    "lecturer_2 = Lecturer('Vasiliy', 'Gusha')\n",
    "lecturer_2.courses_attached += ['C#','Python', 'Data Science']\n",
    "\n",
    "reviewer_1 = Reviewer('Natalya', 'Pinchik')\n",
    "reviewer_1.courses_attached += ['C#','C++', 'Java']\n",
    "\n",
    "reviewer_2 = Reviewer('Roman', 'Solnik')\n",
    "reviewer_2.courses_attached += ['Python', 'Data Science']"
   ]
  },
  {
   "cell_type": "code",
   "execution_count": 8,
   "id": "76df1c04",
   "metadata": {},
   "outputs": [],
   "source": [
    "reviewer_1.rate_hw(student_1, 'C#', 10)\n",
    "reviewer_1.rate_hw(student_1, 'C#', 7)\n",
    "reviewer_1.rate_hw(student_1, 'C#', 9)\n",
    "reviewer_2.rate_hw(student_1, 'Data Science', 10)\n",
    "reviewer_2.rate_hw(student_1, 'Data Science', 10)\n",
    "reviewer_2.rate_hw(student_1, 'Data Science', 8)\n",
    "reviewer_2.rate_hw(student_1, 'Python', 9)\n",
    "reviewer_2.rate_hw(student_1, 'Python', 9)\n",
    "reviewer_2.rate_hw(student_1, 'Python', 6)"
   ]
  },
  {
   "cell_type": "code",
   "execution_count": 9,
   "id": "a6f495d2",
   "metadata": {},
   "outputs": [],
   "source": [
    "reviewer_1.rate_hw(student_2, 'C#', 7)\n",
    "reviewer_1.rate_hw(student_2, 'C#', 6)\n",
    "reviewer_1.rate_hw(student_2, 'C#', 9)\n",
    "reviewer_2.rate_hw(student_2, 'Python', 8)\n",
    "reviewer_2.rate_hw(student_2, 'Python', 4)\n",
    "reviewer_2.rate_hw(student_2, 'Python', 10)"
   ]
  },
  {
   "cell_type": "code",
   "execution_count": 10,
   "id": "d76126a6",
   "metadata": {},
   "outputs": [],
   "source": [
    "student_1.rate_lecturer(lecturer_1, 'C#', 10)\n",
    "student_1.rate_lecturer(lecturer_1, 'C#', 7)\n",
    "student_1.rate_lecturer(lecturer_1, 'C#', 3)\n",
    "student_1.rate_lecturer(lecturer_1, 'Java', 8)\n",
    "student_1.rate_lecturer(lecturer_1, 'Java', 7)"
   ]
  },
  {
   "cell_type": "code",
   "execution_count": 11,
   "id": "90c77483",
   "metadata": {},
   "outputs": [],
   "source": [
    "student_2.rate_lecturer(lecturer_2, 'Python', 10)\n",
    "student_2.rate_lecturer(lecturer_2, 'Python', 4)\n",
    "student_2.rate_lecturer(lecturer_2, 'Python', 9)\n",
    "student_1.rate_lecturer(lecturer_2, 'Data Science', 9)\n",
    "student_1.rate_lecturer(lecturer_2, 'Data Science', 10)\n",
    "student_1.rate_lecturer(lecturer_2, 'Data Science', 8)\n",
    "student_1.rate_lecturer(lecturer_2, 'C#', 10)\n",
    "student_1.rate_lecturer(lecturer_2, 'C#', 7)\n",
    "student_1.rate_lecturer(lecturer_2, 'C#', 8)"
   ]
  },
  {
   "cell_type": "code",
   "execution_count": 12,
   "id": "632f9770",
   "metadata": {},
   "outputs": [],
   "source": [
    "# для подсчета средней оценки за домашние задания по всем студентам в рамках конкретного курса (в качестве аргументов принимаем список студентов и название курса\n",
    "def mean_score_hw_per_course(students, course):\n",
    "    return sum([sum(i.grades[course]) for i in students if course in i.grades])/sum([len(i.grades[course]) for i in students if course in i.grades])"
   ]
  },
  {
   "cell_type": "code",
   "execution_count": 13,
   "id": "d4111d70",
   "metadata": {},
   "outputs": [],
   "source": [
    "#для подсчета средней оценки за лекции всех лекторов в рамках курса (в качестве аргумента принимаем список лекторов и название курса)\n",
    "def mean_score_lectures_per_course(lecturer, course):\n",
    "    return sum([sum(i.grades[course]) for i in lecturer if course in i.grades])/sum([len(i.grades[course]) for i in lecturer if course in i.grades])"
   ]
  },
  {
   "cell_type": "code",
   "execution_count": 14,
   "id": "85ea24aa",
   "metadata": {},
   "outputs": [
    {
     "name": "stdout",
     "output_type": "stream",
     "text": [
      "Имя: Ivan\n",
      "Фамилия: Petrov\n",
      "Средняя оценка за домашние задания: 8.7\n",
      "Курсы в процессе изучения: C#, Data Science, Python\n",
      "Завершенные курсы: Java\n"
     ]
    }
   ],
   "source": [
    "print(student_1)"
   ]
  },
  {
   "cell_type": "code",
   "execution_count": 15,
   "id": "7b7f716d",
   "metadata": {},
   "outputs": [
    {
     "name": "stdout",
     "output_type": "stream",
     "text": [
      "Имя: Marina\n",
      "Фамилия: Belova\n",
      "Средняя оценка за домашние задания: 7.3\n",
      "Курсы в процессе изучения: Python, C#\n",
      "Завершенные курсы: C++, Java\n"
     ]
    }
   ],
   "source": [
    "print(student_2)"
   ]
  },
  {
   "cell_type": "code",
   "execution_count": 16,
   "id": "67b178ce",
   "metadata": {},
   "outputs": [
    {
     "data": {
      "text/plain": [
       "True"
      ]
     },
     "execution_count": 16,
     "metadata": {},
     "output_type": "execute_result"
    }
   ],
   "source": [
    "student_1 > student_2"
   ]
  },
  {
   "cell_type": "code",
   "execution_count": 17,
   "id": "dd022a31",
   "metadata": {},
   "outputs": [
    {
     "data": {
      "text/plain": [
       "False"
      ]
     },
     "execution_count": 17,
     "metadata": {},
     "output_type": "execute_result"
    }
   ],
   "source": [
    "student_1 < student_2"
   ]
  },
  {
   "cell_type": "code",
   "execution_count": 18,
   "id": "9fb61fce",
   "metadata": {},
   "outputs": [
    {
     "data": {
      "text/plain": [
       "False"
      ]
     },
     "execution_count": 18,
     "metadata": {},
     "output_type": "execute_result"
    }
   ],
   "source": [
    "student_1 == student_2"
   ]
  },
  {
   "cell_type": "code",
   "execution_count": 19,
   "id": "d8e79c93",
   "metadata": {},
   "outputs": [
    {
     "data": {
      "text/plain": [
       "True"
      ]
     },
     "execution_count": 19,
     "metadata": {},
     "output_type": "execute_result"
    }
   ],
   "source": [
    "student_1 != student_2"
   ]
  },
  {
   "cell_type": "code",
   "execution_count": 20,
   "id": "967e8f79",
   "metadata": {},
   "outputs": [
    {
     "data": {
      "text/plain": [
       "True"
      ]
     },
     "execution_count": 20,
     "metadata": {},
     "output_type": "execute_result"
    }
   ],
   "source": [
    "student_1 >= student_2"
   ]
  },
  {
   "cell_type": "code",
   "execution_count": 21,
   "id": "14553a1e",
   "metadata": {},
   "outputs": [
    {
     "data": {
      "text/plain": [
       "False"
      ]
     },
     "execution_count": 21,
     "metadata": {},
     "output_type": "execute_result"
    }
   ],
   "source": [
    "student_1 <= student_2"
   ]
  },
  {
   "cell_type": "code",
   "execution_count": 22,
   "id": "bbd8629a",
   "metadata": {},
   "outputs": [
    {
     "name": "stdout",
     "output_type": "stream",
     "text": [
      "{'C#': [10, 7, 9], 'Data Science': [10, 10, 8], 'Python': [9, 9, 6]}\n"
     ]
    }
   ],
   "source": [
    "print(student_1.grades)"
   ]
  },
  {
   "cell_type": "code",
   "execution_count": 23,
   "id": "f49373fc",
   "metadata": {},
   "outputs": [
    {
     "data": {
      "text/plain": [
       "8.666666666666666"
      ]
     },
     "execution_count": 23,
     "metadata": {},
     "output_type": "execute_result"
    }
   ],
   "source": [
    "student_1._mean_hw_score()"
   ]
  },
  {
   "cell_type": "code",
   "execution_count": 24,
   "id": "5ca56376",
   "metadata": {},
   "outputs": [
    {
     "name": "stdout",
     "output_type": "stream",
     "text": [
      "Имя: Sergey\n",
      "Фамилия: Karpov\n"
     ]
    }
   ],
   "source": [
    "print(mentor_1)"
   ]
  },
  {
   "cell_type": "code",
   "execution_count": 25,
   "id": "7afaf0ad",
   "metadata": {},
   "outputs": [
    {
     "name": "stdout",
     "output_type": "stream",
     "text": [
      "Имя: Dmitry\n",
      "Фамилия: Leonov\n",
      "Средняя оценка за лекции: 7.0\n"
     ]
    }
   ],
   "source": [
    "print(lecturer_1)"
   ]
  },
  {
   "cell_type": "code",
   "execution_count": 26,
   "id": "9a2469e1",
   "metadata": {},
   "outputs": [
    {
     "name": "stdout",
     "output_type": "stream",
     "text": [
      "Имя: Vasiliy\n",
      "Фамилия: Gusha\n",
      "Средняя оценка за лекции: 8.3\n"
     ]
    }
   ],
   "source": [
    "print(lecturer_2)"
   ]
  },
  {
   "cell_type": "code",
   "execution_count": 27,
   "id": "fba48cc0",
   "metadata": {},
   "outputs": [
    {
     "data": {
      "text/plain": [
       "False"
      ]
     },
     "execution_count": 27,
     "metadata": {},
     "output_type": "execute_result"
    }
   ],
   "source": [
    "lecturer_1 > lecturer_2"
   ]
  },
  {
   "cell_type": "code",
   "execution_count": 28,
   "id": "85bb3862",
   "metadata": {},
   "outputs": [
    {
     "data": {
      "text/plain": [
       "True"
      ]
     },
     "execution_count": 28,
     "metadata": {},
     "output_type": "execute_result"
    }
   ],
   "source": [
    "lecturer_1 < lecturer_2"
   ]
  },
  {
   "cell_type": "code",
   "execution_count": 29,
   "id": "fbf4bb5f",
   "metadata": {},
   "outputs": [
    {
     "data": {
      "text/plain": [
       "True"
      ]
     },
     "execution_count": 29,
     "metadata": {},
     "output_type": "execute_result"
    }
   ],
   "source": [
    "lecturer_1 != lecturer_2"
   ]
  },
  {
   "cell_type": "code",
   "execution_count": 30,
   "id": "a6b6fcf4",
   "metadata": {},
   "outputs": [
    {
     "data": {
      "text/plain": [
       "False"
      ]
     },
     "execution_count": 30,
     "metadata": {},
     "output_type": "execute_result"
    }
   ],
   "source": [
    "lecturer_1 == lecturer_2"
   ]
  },
  {
   "cell_type": "code",
   "execution_count": 31,
   "id": "5221c7de",
   "metadata": {},
   "outputs": [
    {
     "data": {
      "text/plain": [
       "True"
      ]
     },
     "execution_count": 31,
     "metadata": {},
     "output_type": "execute_result"
    }
   ],
   "source": [
    "lecturer_1 <= lecturer_2"
   ]
  },
  {
   "cell_type": "code",
   "execution_count": 32,
   "id": "764d5f2a",
   "metadata": {},
   "outputs": [
    {
     "data": {
      "text/plain": [
       "False"
      ]
     },
     "execution_count": 32,
     "metadata": {},
     "output_type": "execute_result"
    }
   ],
   "source": [
    "lecturer_1 >= lecturer_2"
   ]
  },
  {
   "cell_type": "code",
   "execution_count": 33,
   "id": "527b7e0b",
   "metadata": {},
   "outputs": [
    {
     "name": "stdout",
     "output_type": "stream",
     "text": [
      "{'C#': [10, 7, 3], 'Java': [8, 7]}\n"
     ]
    }
   ],
   "source": [
    "print(lecturer_1.grades)"
   ]
  },
  {
   "cell_type": "code",
   "execution_count": 34,
   "id": "b1f1db0b",
   "metadata": {},
   "outputs": [
    {
     "data": {
      "text/plain": [
       "7.0"
      ]
     },
     "execution_count": 34,
     "metadata": {},
     "output_type": "execute_result"
    }
   ],
   "source": [
    "lecturer_1._mean_lectures_score()"
   ]
  },
  {
   "cell_type": "code",
   "execution_count": 35,
   "id": "b3f99f8a",
   "metadata": {},
   "outputs": [
    {
     "name": "stdout",
     "output_type": "stream",
     "text": [
      "Имя: Natalya\n",
      "Фамилия: Pinchik\n"
     ]
    }
   ],
   "source": [
    "print(reviewer_1)"
   ]
  },
  {
   "cell_type": "code",
   "execution_count": 36,
   "id": "e42dbb81",
   "metadata": {},
   "outputs": [
    {
     "name": "stdout",
     "output_type": "stream",
     "text": [
      "Имя: Roman\n",
      "Фамилия: Solnik\n"
     ]
    }
   ],
   "source": [
    "print(reviewer_2)"
   ]
  },
  {
   "cell_type": "code",
   "execution_count": 37,
   "id": "4e96f0e5",
   "metadata": {},
   "outputs": [
    {
     "data": {
      "text/plain": [
       "{'C#': [10, 7, 9], 'Data Science': [10, 10, 8], 'Python': [9, 9, 6]}"
      ]
     },
     "execution_count": 37,
     "metadata": {},
     "output_type": "execute_result"
    }
   ],
   "source": [
    "student_1.grades"
   ]
  },
  {
   "cell_type": "code",
   "execution_count": 38,
   "id": "2db11a20",
   "metadata": {},
   "outputs": [
    {
     "data": {
      "text/plain": [
       "{'C#': [7, 6, 9], 'Python': [8, 4, 10]}"
      ]
     },
     "execution_count": 38,
     "metadata": {},
     "output_type": "execute_result"
    }
   ],
   "source": [
    "student_2.grades"
   ]
  },
  {
   "cell_type": "code",
   "execution_count": 39,
   "id": "b8dc50db",
   "metadata": {},
   "outputs": [
    {
     "data": {
      "text/plain": [
       "8.0"
      ]
     },
     "execution_count": 39,
     "metadata": {},
     "output_type": "execute_result"
    }
   ],
   "source": [
    "mean_score_hw_per_course([student_1, student_2], 'C#')"
   ]
  },
  {
   "cell_type": "code",
   "execution_count": 40,
   "id": "565bb131",
   "metadata": {},
   "outputs": [
    {
     "data": {
      "text/plain": [
       "7.666666666666667"
      ]
     },
     "execution_count": 40,
     "metadata": {},
     "output_type": "execute_result"
    }
   ],
   "source": [
    "mean_score_hw_per_course([student_1, student_2], 'Python')"
   ]
  },
  {
   "cell_type": "code",
   "execution_count": 41,
   "id": "e21dad84",
   "metadata": {},
   "outputs": [
    {
     "data": {
      "text/plain": [
       "{'C#': [10, 7, 3], 'Java': [8, 7]}"
      ]
     },
     "execution_count": 41,
     "metadata": {},
     "output_type": "execute_result"
    }
   ],
   "source": [
    "lecturer_1.grades"
   ]
  },
  {
   "cell_type": "code",
   "execution_count": 42,
   "id": "78b540e4",
   "metadata": {},
   "outputs": [
    {
     "data": {
      "text/plain": [
       "{'Python': [10, 4, 9], 'Data Science': [9, 10, 8], 'C#': [10, 7, 8]}"
      ]
     },
     "execution_count": 42,
     "metadata": {},
     "output_type": "execute_result"
    }
   ],
   "source": [
    "lecturer_2.grades"
   ]
  },
  {
   "cell_type": "code",
   "execution_count": 43,
   "id": "c971e30f",
   "metadata": {},
   "outputs": [
    {
     "data": {
      "text/plain": [
       "7.5"
      ]
     },
     "execution_count": 43,
     "metadata": {},
     "output_type": "execute_result"
    }
   ],
   "source": [
    "mean_score_lectures_per_course([lecturer_1, lecturer_2], 'C#')"
   ]
  },
  {
   "cell_type": "code",
   "execution_count": 44,
   "id": "e7bb1a66",
   "metadata": {},
   "outputs": [
    {
     "data": {
      "text/plain": [
       "9.0"
      ]
     },
     "execution_count": 44,
     "metadata": {},
     "output_type": "execute_result"
    }
   ],
   "source": [
    "mean_score_lectures_per_course([lecturer_1, lecturer_2], 'Data Science')"
   ]
  }
 ],
 "metadata": {
  "kernelspec": {
   "display_name": "Python 3",
   "language": "python",
   "name": "python3"
  },
  "language_info": {
   "codemirror_mode": {
    "name": "ipython",
    "version": 3
   },
   "file_extension": ".py",
   "mimetype": "text/x-python",
   "name": "python",
   "nbconvert_exporter": "python",
   "pygments_lexer": "ipython3",
   "version": "3.9.2"
  },
  "vscode": {
   "interpreter": {
    "hash": "0094abbe3cbd06c5641a0c10920bed455bc609a9e7578dc8b42c464f9c59515b"
   }
  }
 },
 "nbformat": 4,
 "nbformat_minor": 5
}
